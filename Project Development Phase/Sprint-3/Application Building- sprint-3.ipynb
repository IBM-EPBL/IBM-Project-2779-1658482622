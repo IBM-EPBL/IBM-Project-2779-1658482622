{
 "cells": [
  {
   "cell_type": "code",
   "execution_count": null,
   "id": "5f5f8abb",
   "metadata": {},
   "outputs": [],
   "source": [
    "'''Application Building:\n",
    "    After the model is built, integrating it to a web application\n",
    "    using Flask framework so that normal users can also use it \n",
    "    to predict the energy in a no-code manner. In the application,\n",
    "    the user provides the required values and get the prediction.\n",
    "    user provides input as city and get the weather conditions for that city\n",
    "    such as temperature, wind direction, wind speed from openweather API and user can also\n",
    "    give the particular month,day to predict the output energy power for a given month and day'''"
   ]
  },
  {
   "cell_type": "code",
   "execution_count": null,
   "id": "f7081ecb",
   "metadata": {},
   "outputs": [],
   "source": [
    "import numpy as np\n",
    "from flask import Flask, request, jsonify, render_template\n",
    "import joblib\n",
    "import requests\n",
    "\n",
    "app = Flask(__name__)\n",
    "model = joblib.load('xg_RFR_forecast_model.sav')\n",
    "@app.route('/')\n",
    "def home():\n",
    "    return render_template('intro.html')\n",
    "@app.route('/predict')\n",
    "def predict():\n",
    "    return render_template('predict_page.html')\n",
    "@app.route('/windapi',methods=['POST'])\n",
    "def windapi():\n",
    "    city=request.form.get('city')\n",
    "    apikey=\"e26bb531d3393dec23475ee08ea9559b\"\n",
    "    url=\"http://api.openweathermap.org/data/2.5/weather?q=\"+city+\"&appid=\"+apikey\n",
    "    resp = requests.get(url)\n",
    "    resp=resp.json()\n",
    "    temp = str((resp[\"main\"][\"temp\"])-273.15) +\" °C\"\n",
    "    humid = str(resp[\"main\"][\"humidity\"])+\" %\"\n",
    "    pressure = str(resp[\"main\"][\"pressure\"])+\" mmHG\"\n",
    "    speed = str((resp[\"wind\"][\"speed\"])*3.6)+\" Km/s\"\n",
    "    direc = str((resp[\"wind\"][\"deg\"]))+\" deg\"\n",
    "    return render_template('predict_page.html', temp=temp, humid=humid, pressure=pressure,speed=speed,direction = direc)   \n",
    "@app.route('/y_predict',methods=['POST'])\n",
    "def y_predict():\n",
    "    x_test =[]\n",
    "    month_dic = {\"jan\":1,\"feb\":2,\"mar\":3,\"apr\":4,\"may\":5,\"jun\":6,\"jul\":7,\"aug\":8,\"sept\":9,\"oct\":10,\"nov\":11,\"dec\":12}\n",
    "    m = request.form['month']\n",
    "    print(m)\n",
    "    x_test.append(month_dic[m])\n",
    "    d = int(request.form['day'])\n",
    "    x_test.append(d)\n",
    "    t = float(request.form['temp'])\n",
    "    x_test.append(t)\n",
    "    direc = float(request.form['direc'])\n",
    "    x_test.append(direc)\n",
    "    speed= float(request.form['wind'])\n",
    "    x_test.append(speed)\n",
    "    x_test = [x_test]\n",
    "    print(x_test)\n",
    "    prediction = model.predict(x_test)\n",
    "    print(prediction)\n",
    "    output = prediction[0] \n",
    "    return render_template('predict_page.html', prediction_text='The energy predicted is {:.2f} KWh'.format(output))\n",
    "\n",
    "\n",
    "if __name__ == \"__main__\":\n",
    "    app.run(debug=False)"
   ]
  },
  {
   "cell_type": "code",
   "execution_count": null,
   "id": "811c13c2",
   "metadata": {},
   "outputs": [],
   "source": []
  }
 ],
 "metadata": {
  "kernelspec": {
   "display_name": "Python 3 (ipykernel)",
   "language": "python",
   "name": "python3"
  },
  "language_info": {
   "codemirror_mode": {
    "name": "ipython",
    "version": 3
   },
   "file_extension": ".py",
   "mimetype": "text/x-python",
   "name": "python",
   "nbconvert_exporter": "python",
   "pygments_lexer": "ipython3",
   "version": "3.9.12"
  }
 },
 "nbformat": 4,
 "nbformat_minor": 5
}
