{
 "cells": [
  {
   "cell_type": "code",
   "execution_count": null,
   "id": "6fefc9d4",
   "metadata": {},
   "outputs": [],
   "source": [
    "''' Model Building\n",
    "    Here we use 5 regression models as\n",
    "    Linear Regression\n",
    "    Random Forest Regression\n",
    "    Support Vector Regressor\n",
    "    Decision Tree Regressor\n",
    "    XGBoost regressor\n",
    "    Check the metrics of the model\n",
    "    save the model\n",
    "'''"
   ]
  },
  {
   "cell_type": "code",
   "execution_count": 1,
   "id": "8c4bdfe1",
   "metadata": {},
   "outputs": [
    {
     "data": {
      "text/html": [
       "<div>\n",
       "<style scoped>\n",
       "    .dataframe tbody tr th:only-of-type {\n",
       "        vertical-align: middle;\n",
       "    }\n",
       "\n",
       "    .dataframe tbody tr th {\n",
       "        vertical-align: top;\n",
       "    }\n",
       "\n",
       "    .dataframe thead th {\n",
       "        text-align: right;\n",
       "    }\n",
       "</style>\n",
       "<table border=\"1\" class=\"dataframe\">\n",
       "  <thead>\n",
       "    <tr style=\"text-align: right;\">\n",
       "      <th></th>\n",
       "      <th>Unnamed: 0</th>\n",
       "      <th>ActivePower</th>\n",
       "      <th>AmbientTemperatue</th>\n",
       "      <th>WindDirection</th>\n",
       "      <th>WindSpeed</th>\n",
       "    </tr>\n",
       "  </thead>\n",
       "  <tbody>\n",
       "    <tr>\n",
       "      <th>0</th>\n",
       "      <td>2018-01-01 00:00:00+00:00</td>\n",
       "      <td>-5.357727</td>\n",
       "      <td>23.148729</td>\n",
       "      <td>8.000000</td>\n",
       "      <td>2.279088</td>\n",
       "    </tr>\n",
       "    <tr>\n",
       "      <th>1</th>\n",
       "      <td>2018-01-01 00:10:00+00:00</td>\n",
       "      <td>-5.822360</td>\n",
       "      <td>23.039754</td>\n",
       "      <td>300.428571</td>\n",
       "      <td>2.339343</td>\n",
       "    </tr>\n",
       "    <tr>\n",
       "      <th>2</th>\n",
       "      <td>2018-01-01 00:20:00+00:00</td>\n",
       "      <td>-5.279409</td>\n",
       "      <td>22.948703</td>\n",
       "      <td>340.000000</td>\n",
       "      <td>2.455610</td>\n",
       "    </tr>\n",
       "    <tr>\n",
       "      <th>3</th>\n",
       "      <td>2018-01-01 00:30:00+00:00</td>\n",
       "      <td>-4.648054</td>\n",
       "      <td>22.966851</td>\n",
       "      <td>345.000000</td>\n",
       "      <td>2.026754</td>\n",
       "    </tr>\n",
       "    <tr>\n",
       "      <th>4</th>\n",
       "      <td>2018-01-01 00:40:00+00:00</td>\n",
       "      <td>-4.684632</td>\n",
       "      <td>22.936520</td>\n",
       "      <td>345.000000</td>\n",
       "      <td>1.831420</td>\n",
       "    </tr>\n",
       "  </tbody>\n",
       "</table>\n",
       "</div>"
      ],
      "text/plain": [
       "                 Unnamed: 0  ActivePower  AmbientTemperatue  WindDirection  \\\n",
       "0 2018-01-01 00:00:00+00:00    -5.357727          23.148729       8.000000   \n",
       "1 2018-01-01 00:10:00+00:00    -5.822360          23.039754     300.428571   \n",
       "2 2018-01-01 00:20:00+00:00    -5.279409          22.948703     340.000000   \n",
       "3 2018-01-01 00:30:00+00:00    -4.648054          22.966851     345.000000   \n",
       "4 2018-01-01 00:40:00+00:00    -4.684632          22.936520     345.000000   \n",
       "\n",
       "   WindSpeed  \n",
       "0   2.279088  \n",
       "1   2.339343  \n",
       "2   2.455610  \n",
       "3   2.026754  \n",
       "4   1.831420  "
      ]
     },
     "execution_count": 1,
     "metadata": {},
     "output_type": "execute_result"
    }
   ],
   "source": [
    "# import libraries\n",
    "import numpy as np\n",
    "import pandas as pd\n",
    "import matplotlib.pyplot as plt\n",
    "df = pd.read_csv(\"Turbine_data.csv\",low_memory=False,parse_dates=[\"Unnamed: 0\"])\n",
    "df.head()"
   ]
  },
  {
   "cell_type": "code",
   "execution_count": 2,
   "id": "6e27189c",
   "metadata": {},
   "outputs": [],
   "source": [
    "# duplicate the date column to change it's name \n",
    "#parsing dates\n",
    "df['DateTime'] = df['Unnamed: 0'] \n",
    "df.drop('Unnamed: 0', axis=1, inplace=True)"
   ]
  },
  {
   "cell_type": "code",
   "execution_count": 3,
   "id": "bf752d9d",
   "metadata": {},
   "outputs": [],
   "source": [
    "# Add datetime parameters \n",
    "df['DateTime'] = pd.to_datetime(df['DateTime'], \n",
    " format = '%Y-%m-%dT%H:%M:%SZ', \n",
    " errors = 'coerce')\n",
    "\n",
    "df['year'] = df['DateTime'].dt.year\n",
    "df['month'] = df['DateTime'].dt.month\n",
    "df['day'] = df['DateTime'].dt.day\n",
    "df['hour'] = df['DateTime'].dt.hour\n",
    "df['minute'] = df['DateTime'].dt.minute"
   ]
  },
  {
   "cell_type": "code",
   "execution_count": 4,
   "id": "db2fa868",
   "metadata": {},
   "outputs": [
    {
     "data": {
      "text/plain": [
       "ActivePower          23330\n",
       "AmbientTemperatue    24263\n",
       "WindDirection        45802\n",
       "WindSpeed            23485\n",
       "DateTime                 0\n",
       "year                     0\n",
       "month                    0\n",
       "day                      0\n",
       "hour                     0\n",
       "minute                   0\n",
       "dtype: int64"
      ]
     },
     "execution_count": 4,
     "metadata": {},
     "output_type": "execute_result"
    }
   ],
   "source": [
    "#check for null values\n",
    "df.isna().sum()"
   ]
  },
  {
   "cell_type": "code",
   "execution_count": 5,
   "id": "8e13db71",
   "metadata": {},
   "outputs": [],
   "source": [
    "#handling null values\n",
    "df['AmbientTemperatue'].fillna(int(df['AmbientTemperatue'].mean()), inplace=True)\n",
    "df['WindDirection'].fillna(int(df['WindDirection'].mean()), inplace=True)\n",
    "df['WindSpeed'].fillna(int(df['WindSpeed'].mean()), inplace=True)\n",
    "df['ActivePower'].fillna(int(df['ActivePower'].mean()), inplace=True)"
   ]
  },
  {
   "cell_type": "code",
   "execution_count": 6,
   "id": "af6521da",
   "metadata": {},
   "outputs": [
    {
     "data": {
      "text/html": [
       "<div>\n",
       "<style scoped>\n",
       "    .dataframe tbody tr th:only-of-type {\n",
       "        vertical-align: middle;\n",
       "    }\n",
       "\n",
       "    .dataframe tbody tr th {\n",
       "        vertical-align: top;\n",
       "    }\n",
       "\n",
       "    .dataframe thead th {\n",
       "        text-align: right;\n",
       "    }\n",
       "</style>\n",
       "<table border=\"1\" class=\"dataframe\">\n",
       "  <thead>\n",
       "    <tr style=\"text-align: right;\">\n",
       "      <th></th>\n",
       "      <th>month</th>\n",
       "      <th>day</th>\n",
       "      <th>AmbientTemperatue</th>\n",
       "      <th>WindDirection</th>\n",
       "      <th>WindSpeed</th>\n",
       "    </tr>\n",
       "  </thead>\n",
       "  <tbody>\n",
       "    <tr>\n",
       "      <th>0</th>\n",
       "      <td>1</td>\n",
       "      <td>1</td>\n",
       "      <td>23.148729</td>\n",
       "      <td>8.000000</td>\n",
       "      <td>2.279088</td>\n",
       "    </tr>\n",
       "    <tr>\n",
       "      <th>1</th>\n",
       "      <td>1</td>\n",
       "      <td>1</td>\n",
       "      <td>23.039754</td>\n",
       "      <td>300.428571</td>\n",
       "      <td>2.339343</td>\n",
       "    </tr>\n",
       "    <tr>\n",
       "      <th>2</th>\n",
       "      <td>1</td>\n",
       "      <td>1</td>\n",
       "      <td>22.948703</td>\n",
       "      <td>340.000000</td>\n",
       "      <td>2.455610</td>\n",
       "    </tr>\n",
       "    <tr>\n",
       "      <th>3</th>\n",
       "      <td>1</td>\n",
       "      <td>1</td>\n",
       "      <td>22.966851</td>\n",
       "      <td>345.000000</td>\n",
       "      <td>2.026754</td>\n",
       "    </tr>\n",
       "    <tr>\n",
       "      <th>4</th>\n",
       "      <td>1</td>\n",
       "      <td>1</td>\n",
       "      <td>22.936520</td>\n",
       "      <td>345.000000</td>\n",
       "      <td>1.831420</td>\n",
       "    </tr>\n",
       "  </tbody>\n",
       "</table>\n",
       "</div>"
      ],
      "text/plain": [
       "   month  day  AmbientTemperatue  WindDirection  WindSpeed\n",
       "0      1    1          23.148729       8.000000   2.279088\n",
       "1      1    1          23.039754     300.428571   2.339343\n",
       "2      1    1          22.948703     340.000000   2.455610\n",
       "3      1    1          22.966851     345.000000   2.026754\n",
       "4      1    1          22.936520     345.000000   1.831420"
      ]
     },
     "execution_count": 6,
     "metadata": {},
     "output_type": "execute_result"
    }
   ],
   "source": [
    "#splitting dependent and independent features\n",
    "independent_features = df[['month','day','AmbientTemperatue','WindDirection','WindSpeed']]\n",
    "independent_features.head()"
   ]
  },
  {
   "cell_type": "code",
   "execution_count": 7,
   "id": "9a4880f3",
   "metadata": {},
   "outputs": [],
   "source": [
    "target = df['ActivePower']"
   ]
  },
  {
   "cell_type": "code",
   "execution_count": 8,
   "id": "822cf257",
   "metadata": {},
   "outputs": [
    {
     "name": "stdout",
     "output_type": "stream",
     "text": [
      "(118080, 5)\n",
      "(118080,)\n"
     ]
    }
   ],
   "source": [
    "df_new = independent_features\n",
    "X=np.asanyarray(df_new).astype('int')\n",
    "y=np.asanyarray(target).astype('int')\n",
    "print(X.shape)\n",
    "print(y.shape)"
   ]
  },
  {
   "cell_type": "code",
   "execution_count": 9,
   "id": "ab00a46e",
   "metadata": {},
   "outputs": [],
   "source": [
    "# splitting the dataset into training and testing\n",
    "from sklearn.model_selection import train_test_split\n",
    "from sklearn import metrics\n",
    "\n",
    "X_train, X_test, y_train, y_test = train_test_split(X, y, test_size=0.3, random_state=10)"
   ]
  },
  {
   "cell_type": "markdown",
   "id": "4242e274",
   "metadata": {},
   "source": [
    "# Linear Regression"
   ]
  },
  {
   "cell_type": "code",
   "execution_count": 10,
   "id": "433612be",
   "metadata": {},
   "outputs": [
    {
     "data": {
      "text/plain": [
       "LinearRegression()"
      ]
     },
     "execution_count": 10,
     "metadata": {},
     "output_type": "execute_result"
    }
   ],
   "source": [
    "from sklearn.linear_model import LinearRegression\n",
    "LR = LinearRegression()\n",
    "LR.fit(X_train,y_train)"
   ]
  },
  {
   "cell_type": "code",
   "execution_count": 11,
   "id": "6a5a6d8c",
   "metadata": {},
   "outputs": [],
   "source": [
    "# predicting \n",
    "y_train_predict=LR.predict(X_train)\n",
    "y_test_predict=LR.predict(X_test)"
   ]
  },
  {
   "cell_type": "code",
   "execution_count": 12,
   "id": "788d2c90",
   "metadata": {},
   "outputs": [
    {
     "name": "stdout",
     "output_type": "stream",
     "text": [
      "-------Test Data--------\n",
      "MAE: 149.04421616824322\n",
      "MSE: 43810.98108666043\n",
      "RMSE: 209.31072855126283\n",
      "\n",
      "-------Train Data--------\n",
      "MAE: 149.11934775839532\n",
      "MSE: 42671.04510091187\n",
      "RMSE: 206.56971002766082\n",
      "\n",
      "-----Training Accuracy-------\n",
      "85.8\n",
      "-----Testing Accuracy--------\n",
      "85.39999999999999\n"
     ]
    }
   ],
   "source": [
    "print(\"-------Test Data--------\")\n",
    "print('MAE:', metrics.mean_absolute_error(y_test, y_test_predict))\n",
    "print('MSE:', metrics.mean_squared_error(y_test, y_test_predict))\n",
    "print('RMSE:', np.sqrt(metrics.mean_squared_error(y_test, y_test_predict)))\n",
    "\n",
    "print(\"\\n-------Train Data--------\")\n",
    "print('MAE:', metrics.mean_absolute_error(y_train,y_train_predict))\n",
    "print('MSE:', metrics.mean_squared_error(y_train, y_train_predict))\n",
    "print('RMSE:', np.sqrt(metrics.mean_squared_error(y_train, y_train_predict)))\n",
    "\n",
    "print(\"\\n-----Training Accuracy-------\")\n",
    "print(round(LR.score(X_train,y_train),3)*100)\n",
    "print(\"-----Testing Accuracy--------\")\n",
    "print(round(LR.score(X_test,y_test),3)*100)\n"
   ]
  },
  {
   "cell_type": "markdown",
   "id": "2e1231e6",
   "metadata": {},
   "source": [
    "# SVM Regressor"
   ]
  },
  {
   "cell_type": "code",
   "execution_count": null,
   "id": "bef0138a",
   "metadata": {},
   "outputs": [
    {
     "name": "stderr",
     "output_type": "stream",
     "text": [
      "C:\\Users\\Lenovo\\anaconda3\\lib\\site-packages\\sklearn\\utils\\validation.py:993: DataConversionWarning: A column-vector y was passed when a 1d array was expected. Please change the shape of y to (n_samples, ), for example using ravel().\n",
      "  y = column_or_1d(y, warn=True)\n"
     ]
    }
   ],
   "source": [
    "#SVM regressor\n",
    "from sklearn import preprocessing\n",
    "from sklearn import svm\n",
    "\n",
    "svm_regr = svm.SVC(kernel='rbf')\n",
    "svm_regr.fit(X_train, y_train) "
   ]
  },
  {
   "cell_type": "code",
   "execution_count": null,
   "id": "17d9ce5c",
   "metadata": {},
   "outputs": [],
   "source": [
    "y_test_predict = svm_regr.predict(X_test)\n",
    "y_train_predict = svm_regr.predict(X_train)"
   ]
  },
  {
   "cell_type": "code",
   "execution_count": null,
   "id": "092a82df",
   "metadata": {},
   "outputs": [],
   "source": [
    "from sklearn import metrics\n",
    "print(\"-------Test Data--------\")\n",
    "print('MAE:', metrics.mean_absolute_error(y_test, y_test_predict))\n",
    "print('MSE:', metrics.mean_squared_error(y_test, y_test_predict))\n",
    "print('RMSE:', np.sqrt(metrics.mean_squared_error(y_test, y_test_predict)))\n",
    "\n",
    "print(\"\\n-------Train Data--------\")\n",
    "print('MAE:', metrics.mean_absolute_error(y_train,y_train_predict))\n",
    "print('MSE:', metrics.mean_squared_error(y_train, y_train_predict))\n",
    "print('RMSE:', np.sqrt(metrics.mean_squared_error(y_train, y_train_predict)))\n",
    "\n",
    "\n",
    "print(\"\\n-----Training Accuracy-------\")\n",
    "print(round(svm_regr.score(X_train,y_train),3)*100)\n",
    "print(\"-----Testing Accuracy--------\")\n",
    "print(round(svm_regr.score(X_test,y_test),3)*100)\n"
   ]
  },
  {
   "cell_type": "markdown",
   "id": "9208eec8",
   "metadata": {},
   "source": [
    "# Decision Tree Regressor"
   ]
  },
  {
   "cell_type": "code",
   "execution_count": 10,
   "id": "d9a2592a",
   "metadata": {},
   "outputs": [],
   "source": [
    "from sklearn.tree import DecisionTreeRegressor"
   ]
  },
  {
   "cell_type": "code",
   "execution_count": 11,
   "id": "57b3864a",
   "metadata": {},
   "outputs": [],
   "source": [
    "dec_model = DecisionTreeRegressor(random_state =1)"
   ]
  },
  {
   "cell_type": "code",
   "execution_count": 12,
   "id": "ce8fbf5d",
   "metadata": {},
   "outputs": [
    {
     "data": {
      "text/plain": [
       "DecisionTreeRegressor(random_state=1)"
      ]
     },
     "execution_count": 12,
     "metadata": {},
     "output_type": "execute_result"
    }
   ],
   "source": [
    "dec_model.fit(X_train,y_train)"
   ]
  },
  {
   "cell_type": "code",
   "execution_count": 37,
   "id": "f59b01e6",
   "metadata": {},
   "outputs": [
    {
     "data": {
      "text/plain": [
       "array([[ -5],\n",
       "       [ -8],\n",
       "       [972],\n",
       "       ...,\n",
       "       [284],\n",
       "       [ 66],\n",
       "       [ -5]])"
      ]
     },
     "execution_count": 37,
     "metadata": {},
     "output_type": "execute_result"
    }
   ],
   "source": [
    "#13.Test the model\n",
    "y_test_pred =dec_model.predict(X_test)\n",
    "y_test"
   ]
  },
  {
   "cell_type": "code",
   "execution_count": 38,
   "id": "e75c6b2a",
   "metadata": {},
   "outputs": [],
   "source": [
    "y_preds = dec_model.predict(X_train)"
   ]
  },
  {
   "cell_type": "code",
   "execution_count": 39,
   "id": "c439872a",
   "metadata": {},
   "outputs": [],
   "source": [
    "y_test_pred = dec_model.predict(X_test)"
   ]
  },
  {
   "cell_type": "code",
   "execution_count": 16,
   "id": "596a71a2",
   "metadata": {},
   "outputs": [
    {
     "name": "stdout",
     "output_type": "stream",
     "text": [
      "3.7195365334034864\n"
     ]
    }
   ],
   "source": [
    "import math\n",
    "from sklearn.metrics import mean_absolute_error,r2_score\n",
    "print(math.sqrt(mean_absolute_error(y_train,y_preds)))\n"
   ]
  },
  {
   "cell_type": "code",
   "execution_count": 28,
   "id": "bae3ca98",
   "metadata": {},
   "outputs": [
    {
     "name": "stdout",
     "output_type": "stream",
     "text": [
      "7.900532258260076\n"
     ]
    }
   ],
   "source": [
    "print(math.sqrt(mean_absolute_error(y_test,y_test_pred)))"
   ]
  },
  {
   "cell_type": "code",
   "execution_count": 40,
   "id": "913c335a",
   "metadata": {},
   "outputs": [
    {
     "name": "stdout",
     "output_type": "stream",
     "text": [
      "-------Test Data--------\n",
      "MAE: 62.41840996380805\n",
      "MSE: 14889.978097767444\n",
      "RMSE: 122.02449794105873\n",
      "\n",
      "-------Train Data--------\n",
      "MAE: 13.834952023323225\n",
      "MSE: 2258.2346855734895\n",
      "RMSE: 47.520886834880194\n",
      "\n",
      "-----Training Accuracy-------\n",
      "99.2\n",
      "-----Testing Accuracy--------\n",
      "95.0\n"
     ]
    }
   ],
   "source": [
    "from sklearn import metrics\n",
    "print(\"-------Test Data--------\")\n",
    "print('MAE:', metrics.mean_absolute_error(y_test, y_test_pred))\n",
    "print('MSE:', metrics.mean_squared_error(y_test, y_test_pred))\n",
    "print('RMSE:', np.sqrt(metrics.mean_squared_error(y_test, y_test_pred)))\n",
    "\n",
    "print(\"\\n-------Train Data--------\")\n",
    "print('MAE:', metrics.mean_absolute_error(y_train,y_preds))\n",
    "print('MSE:', metrics.mean_squared_error(y_train, y_preds))\n",
    "print('RMSE:', np.sqrt(metrics.mean_squared_error(y_train, y_preds)))\n",
    "\n",
    "\n",
    "print(\"\\n-----Training Accuracy-------\")\n",
    "print(round(dec_model.score(X_train,y_train),3)*100)\n",
    "print(\"-----Testing Accuracy--------\")\n",
    "print(round(dec_model.score(X_test,y_test),3)*100)\n"
   ]
  },
  {
   "cell_type": "code",
   "execution_count": 17,
   "id": "06c6a139",
   "metadata": {},
   "outputs": [
    {
     "name": "stdout",
     "output_type": "stream",
     "text": [
      "7.900532258260076\n"
     ]
    }
   ],
   "source": [
    "print(math.sqrt(mean_absolute_error(y_test,y_test_pred)))\n"
   ]
  },
  {
   "cell_type": "code",
   "execution_count": 29,
   "id": "0d8f95c1",
   "metadata": {},
   "outputs": [
    {
     "name": "stdout",
     "output_type": "stream",
     "text": [
      "0.9924647507707248\n"
     ]
    }
   ],
   "source": [
    "print(r2_score(y_train,y_preds))"
   ]
  },
  {
   "cell_type": "code",
   "execution_count": 18,
   "id": "3e1806ad",
   "metadata": {},
   "outputs": [
    {
     "name": "stdout",
     "output_type": "stream",
     "text": [
      "0.9502981638437535\n"
     ]
    }
   ],
   "source": [
    "print(r2_score(y_test,y_test_pred))"
   ]
  },
  {
   "cell_type": "code",
   "execution_count": 35,
   "id": "16acbe95",
   "metadata": {},
   "outputs": [
    {
     "data": {
      "text/plain": [
       "['dec_model.sav']"
      ]
     },
     "execution_count": 35,
     "metadata": {},
     "output_type": "execute_result"
    }
   ],
   "source": [
    "#save the model\n",
    "import joblib\n",
    "joblib.dump(dec_model,'dec_model.sav')"
   ]
  },
  {
   "cell_type": "code",
   "execution_count": null,
   "id": "58169596",
   "metadata": {},
   "outputs": [],
   "source": [
    "2018-01-01 15:40:00+00:00\t216.0396777\t27.39363139\t258\t4.479508732\n"
   ]
  },
  {
   "cell_type": "code",
   "execution_count": 31,
   "id": "e4b78cab",
   "metadata": {},
   "outputs": [
    {
     "data": {
      "text/plain": [
       "array([212.])"
      ]
     },
     "execution_count": 31,
     "metadata": {},
     "output_type": "execute_result"
    }
   ],
   "source": [
    "y_preds = model.predict([[1,1,27.39363139,258,4.479508]])\n",
    "y_preds"
   ]
  },
  {
   "cell_type": "markdown",
   "id": "a8db6c53",
   "metadata": {},
   "source": [
    "# Random Forest Regressor"
   ]
  },
  {
   "cell_type": "code",
   "execution_count": 13,
   "id": "4f41f48e",
   "metadata": {},
   "outputs": [
    {
     "data": {
      "text/plain": [
       "RandomForestRegressor(max_depth=100, max_features='sqrt', min_samples_leaf=4,\n",
       "                      min_samples_split=10, n_estimators=800)"
      ]
     },
     "execution_count": 13,
     "metadata": {},
     "output_type": "execute_result"
    }
   ],
   "source": [
    "from sklearn.ensemble import RandomForestRegressor\n",
    "random_forest_model = RandomForestRegressor(max_depth=100, max_features='sqrt', min_samples_leaf=4,\n",
    "                      min_samples_split=10, n_estimators=800)\n",
    "random_forest_model.fit(X_train, y_train)"
   ]
  },
  {
   "cell_type": "code",
   "execution_count": 14,
   "id": "ad9f4271",
   "metadata": {},
   "outputs": [],
   "source": [
    "y_train_predict=random_forest_model.predict(X_train)\n",
    "y_test_predict=random_forest_model.predict(X_test)"
   ]
  },
  {
   "cell_type": "code",
   "execution_count": 15,
   "id": "648a95cc",
   "metadata": {},
   "outputs": [
    {
     "name": "stdout",
     "output_type": "stream",
     "text": [
      "-----------Training Accuracy------------\n",
      "97.6\n",
      "-----------Testing Accuracy------------\n",
      "96.7\n"
     ]
    }
   ],
   "source": [
    "print(\"-----------Training Accuracy------------\")\n",
    "print(round(random_forest_model.score(X_train,y_train),3)*100)\n",
    "print(\"-----------Testing Accuracy------------\")\n",
    "print(round(random_forest_model.score(X_test,y_test),3)*100)\n"
   ]
  },
  {
   "cell_type": "code",
   "execution_count": 16,
   "id": "71324550",
   "metadata": {},
   "outputs": [
    {
     "data": {
      "text/plain": [
       "0.9761993646024032"
      ]
     },
     "execution_count": 16,
     "metadata": {},
     "output_type": "execute_result"
    }
   ],
   "source": [
    " from sklearn.metrics import mean_squared_error,r2_score\n",
    "\n",
    "r2_score(y_train,y_train_predict)\n"
   ]
  },
  {
   "cell_type": "code",
   "execution_count": null,
   "id": "e40b5b0c",
   "metadata": {},
   "outputs": [],
   "source": []
  },
  {
   "cell_type": "code",
   "execution_count": 17,
   "id": "bce3f6f1",
   "metadata": {},
   "outputs": [
    {
     "data": {
      "text/plain": [
       "0.9669643887056775"
      ]
     },
     "execution_count": 17,
     "metadata": {},
     "output_type": "execute_result"
    }
   ],
   "source": [
    "r2_score(y_test,y_test_predict)"
   ]
  },
  {
   "cell_type": "code",
   "execution_count": 20,
   "id": "3336ee13",
   "metadata": {},
   "outputs": [],
   "source": [
    "import matplotlib.pyplot as plt\n",
    "import seaborn as sns\n",
    "from datetime import datetime\n",
    "from matplotlib.pyplot import figure\n",
    "from sklearn.preprocessing import MinMaxScaler\n",
    "import sklearn\n",
    "from sklearn.model_selection import train_test_split\n",
    "from sklearn.preprocessing import StandardScaler\n",
    "from sklearn.decomposition import PCA\n",
    "from sklearn.pipeline import Pipeline\n",
    "from sklearn.linear_model import LogisticRegression\n",
    "from sklearn.tree import DecisionTreeClassifier\n",
    "from sklearn.ensemble import RandomForestClassifier\n",
    "import xgboost as xg\n",
    "import numpy as np\n",
    "from sklearn import svm\n",
    "from sklearn.linear_model import LinearRegression"
   ]
  },
  {
   "cell_type": "markdown",
   "id": "955a6bc8",
   "metadata": {},
   "source": [
    "# XGBoost Regressor"
   ]
  },
  {
   "cell_type": "code",
   "execution_count": 21,
   "id": "c184ee98",
   "metadata": {},
   "outputs": [],
   "source": [
    "xg_model = xg.XGBRegressor()"
   ]
  },
  {
   "cell_type": "code",
   "execution_count": 22,
   "id": "677ee3fd",
   "metadata": {},
   "outputs": [
    {
     "data": {
      "text/plain": [
       "XGBRegressor(base_score=0.5, booster='gbtree', callbacks=None,\n",
       "             colsample_bylevel=1, colsample_bynode=1, colsample_bytree=1,\n",
       "             early_stopping_rounds=None, enable_categorical=False,\n",
       "             eval_metric=None, gamma=0, gpu_id=-1, grow_policy='depthwise',\n",
       "             importance_type=None, interaction_constraints='',\n",
       "             learning_rate=0.300000012, max_bin=256, max_cat_to_onehot=4,\n",
       "             max_delta_step=0, max_depth=6, max_leaves=0, min_child_weight=1,\n",
       "             missing=nan, monotone_constraints='()', n_estimators=100, n_jobs=0,\n",
       "             num_parallel_tree=1, predictor='auto', random_state=0, reg_alpha=0,\n",
       "             reg_lambda=1, ...)"
      ]
     },
     "execution_count": 22,
     "metadata": {},
     "output_type": "execute_result"
    }
   ],
   "source": [
    "xg_model.fit(X_train,y_train)"
   ]
  },
  {
   "cell_type": "code",
   "execution_count": 23,
   "id": "bf159997",
   "metadata": {},
   "outputs": [],
   "source": [
    "y_train_predict=xg_model.predict(X_train)\n",
    "y_test_predict=xg_model.predict(X_test)"
   ]
  },
  {
   "cell_type": "code",
   "execution_count": 40,
   "id": "a7e85ee7",
   "metadata": {},
   "outputs": [
    {
     "data": {
      "text/plain": [
       "0.9695960085906646"
      ]
     },
     "execution_count": 40,
     "metadata": {},
     "output_type": "execute_result"
    }
   ],
   "source": [
    "r2_score(y_train,y_train_predict)"
   ]
  },
  {
   "cell_type": "code",
   "execution_count": 31,
   "id": "184f56f8",
   "metadata": {},
   "outputs": [],
   "source": [
    "#x_std = (x-x.min(axis =0))/(x.max(axis=0)- x.min(axis =0))\n",
    "from sklearn.preprocessing import MinMaxScaler\n",
    "scale1 = MinMaxScaler()\n",
    "scale2 = MinMaxScaler()\n",
    "xscaled = scale1.fit_transform(X_train)\n",
    "y_train = y_train.reshape(-1,1)\n",
    "yscaled = scale2.fit_transform(y_train)\n",
    "x_test_scaled = scale1.fit_transform(X_test)\n",
    "y_test = y_test.reshape(-1,1)\n",
    "y_test_scaled = scale2.fit_transform(y_test)"
   ]
  },
  {
   "cell_type": "code",
   "execution_count": 25,
   "id": "8551b553",
   "metadata": {},
   "outputs": [
    {
     "data": {
      "text/plain": [
       "XGBRegressor(base_score=0.5, booster='gbtree', callbacks=None,\n",
       "             colsample_bylevel=1, colsample_bynode=1, colsample_bytree=1,\n",
       "             early_stopping_rounds=None, enable_categorical=False,\n",
       "             eval_metric=None, gamma=0, gpu_id=-1, grow_policy='depthwise',\n",
       "             importance_type=None, interaction_constraints='',\n",
       "             learning_rate=0.300000012, max_bin=256, max_cat_to_onehot=4,\n",
       "             max_delta_step=0, max_depth=6, max_leaves=0, min_child_weight=1,\n",
       "             missing=nan, monotone_constraints='()', n_estimators=100, n_jobs=0,\n",
       "             num_parallel_tree=1, predictor='auto', random_state=0, reg_alpha=0,\n",
       "             reg_lambda=1, ...)"
      ]
     },
     "execution_count": 25,
     "metadata": {},
     "output_type": "execute_result"
    }
   ],
   "source": [
    "xg_model.fit(xscaled,yscaled)"
   ]
  },
  {
   "cell_type": "code",
   "execution_count": 41,
   "id": "83450777",
   "metadata": {},
   "outputs": [],
   "source": [
    "y_train_scaled_predict = xg_model.predict(xscaled)"
   ]
  },
  {
   "cell_type": "code",
   "execution_count": 42,
   "id": "8b6a3928",
   "metadata": {},
   "outputs": [],
   "source": [
    "y_test_scaled_pred = xg_model.predict(x_test_scaled)"
   ]
  },
  {
   "cell_type": "code",
   "execution_count": 33,
   "id": "7062ff8b",
   "metadata": {},
   "outputs": [
    {
     "name": "stdout",
     "output_type": "stream",
     "text": [
      "0.9620078964068732\n"
     ]
    }
   ],
   "source": [
    "print(r2_score(y_test_scaled,y_test_scaled_pred))"
   ]
  },
  {
   "cell_type": "code",
   "execution_count": 27,
   "id": "512d7183",
   "metadata": {},
   "outputs": [
    {
     "data": {
      "text/plain": [
       "0.9699157582990736"
      ]
     },
     "execution_count": 27,
     "metadata": {},
     "output_type": "execute_result"
    }
   ],
   "source": [
    "r2_score(yscaled,y_train_scaled_predict)"
   ]
  },
  {
   "cell_type": "code",
   "execution_count": 29,
   "id": "9c340269",
   "metadata": {
    "scrolled": true
   },
   "outputs": [
    {
     "data": {
      "text/plain": [
       "['xg_RFR_forecast_model.sav']"
      ]
     },
     "execution_count": 29,
     "metadata": {},
     "output_type": "execute_result"
    }
   ],
   "source": [
    "#save the model\n",
    "import joblib\n",
    "joblib.dump(xg_model,'xg_RFR_forecast_model.sav')"
   ]
  },
  {
   "cell_type": "code",
   "execution_count": null,
   "id": "20e3a3fa",
   "metadata": {},
   "outputs": [],
   "source": []
  },
  {
   "cell_type": "markdown",
   "id": "187daca4",
   "metadata": {},
   "source": [
    "# ploting accuracy graph to choose best model for prediction"
   ]
  },
  {
   "cell_type": "code",
   "execution_count": 47,
   "id": "8c432d64",
   "metadata": {},
   "outputs": [],
   "source": [
    "import numpy as np\n",
    "import matplotlib.pyplot as plt"
   ]
  },
  {
   "cell_type": "code",
   "execution_count": 36,
   "id": "7a223f0d",
   "metadata": {},
   "outputs": [
    {
     "data": {
      "image/png": "[encoded data removed]",
      "text/plain": [
       "<Figure size 720x360 with 1 Axes>"
      ]
     },
     "metadata": {
      "needs_background": "light"
     },
     "output_type": "display_data"
    }
   ],
   "source": [
    "data ={\"LR\":85.9,\"SVM\":90.1,\"DTR\":95.1,\"RFR\":96.2,\"XGR\":96.9}\n",
    "models = list(data.keys())\n",
    "acc = list(data.values())\n",
    "fig = plt.figure(figsize =(10,5))\n",
    "#bar plot\n",
    "plt.bar(models,acc,color ='maroon',width =0.4)\n",
    "plt.xlabel(\"Machine Learning Models\")\n",
    "plt.ylabel(\"Accuracy\")\n",
    "plt.show()"
   ]
  },
  {
   "cell_type": "markdown",
   "id": "c0a14125",
   "metadata": {},
   "source": [
    "# AS XGBoost Regressor modeling achieves high accuracy , so we choose our model as XGBoost Regressor"
   ]
  },
  {
   "cell_type": "code",
   "execution_count": null,
   "id": "da014a40",
   "metadata": {},
   "outputs": [],
   "source": []
  }
 ],
 "metadata": {
  "kernelspec": {
   "display_name": "Python 3 (ipykernel)",
   "language": "python",
   "name": "python3"
  },
  "language_info": {
   "codemirror_mode": {
    "name": "ipython",
    "version": 3
   },
   "file_extension": ".py",
   "mimetype": "text/x-python",
   "name": "python",
   "nbconvert_exporter": "python",
   "pygments_lexer": "ipython3",
   "version": "3.9.12"
  }
 },
 "nbformat": 4,
 "nbformat_minor": 5
}
